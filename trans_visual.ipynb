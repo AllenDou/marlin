{
 "cells": [
  {
   "cell_type": "code",
   "execution_count": null,
   "id": "d15e50c3-5db4-46e5-bd03-9329158164b2",
   "metadata": {},
   "outputs": [],
   "source": [
    "import matplotlib.pyplot as plt\n",
    "import numpy as np\n",
    "\n",
    "a_gl_stride = 512\n",
    "a_sh_stride = 8\n",
    "a_gl_rd_delta_o = 8\n",
    "thread_m_blocks = 4\n",
    "thread_k_blocks = 4\n",
    "thread_n_blocks = 16\n",
    "b_gl_stride = 2048\n",
    "b_sh_stride = 128\n",
    "slice_col = 0\n",
    "slice_row = 0\n",
    "b_gl_rd_delta_o = 8192\n",
    "s_gl_stride = 512\n",
    "group_blocks = 8\n",
    "s_sh_stride = 32\n",
    "a_sh_wr_iters = 2\n",
    "a_sh_wr_delta = 256\n",
    "a_sh_rd_delta_o = 4\n",
    "a_sh_rd_delta_i = 128\n",
    "\n",
    "def transform_a(i):\n",
    "    row = int(i / a_gl_rd_delta_o)\n",
    "    return a_gl_rd_delta_o * row + (i % a_gl_rd_delta_o) ^ row"
   ]
  },
  {
   "cell_type": "code",
   "execution_count": null,
   "id": "f4a0601b-7ecb-4e5b-9656-204b332e8a7a",
   "metadata": {},
   "outputs": [],
   "source": [
    "trans0=[]\n",
    "for threadIdx_x in range(256):\n",
    "    a_sh_rd = a_sh_stride * ((threadIdx_x % 32) % 16) + int((threadIdx_x % 32) / 16)\n",
    "    a_sh_rd += 2 * int(int(threadIdx_x / 32) / int(thread_n_blocks / 4))\n",
    "    a_sh_rd_trans0 = transform_a(a_sh_rd_delta_o*0 + a_sh_rd)\n",
    "    a_sh_rd_trans1 = transform_a(a_sh_rd_delta_o*1 + a_sh_rd)\n",
    "    trans0.append(a_sh_rd_trans0)\n",
    "plt.scatter(range(len(trans0)), trans0, s=1)\n",
    "plt.title('trans')\n",
    "plt.xlabel('thread')\n",
    "plt.ylabel('trans_value')\n",
    "plt.xlim(0, 256)\n",
    "# 设置y轴范围为-0.5到0.5\n",
    "plt.ylim(0, 128)\n",
    "#plt.grid(True)  # 显示网格\n",
    "plt.grid(axis='x')  # 只显示x轴网格\n",
    "plt.show()\n",
    "plt.savefig('a_sh_rd_trans.png', dpi=300)"
   ]
  },
  {
   "cell_type": "code",
   "execution_count": null,
   "id": "20e03b40-2f9d-408b-a008-b9926ac333fb",
   "metadata": {},
   "outputs": [],
   "source": []
  }
 ],
 "metadata": {
  "kernelspec": {
   "display_name": "Python 3 (ipykernel)",
   "language": "python",
   "name": "python3"
  },
  "language_info": {
   "codemirror_mode": {
    "name": "ipython",
    "version": 3
   },
   "file_extension": ".py",
   "mimetype": "text/x-python",
   "name": "python",
   "nbconvert_exporter": "python",
   "pygments_lexer": "ipython3",
   "version": "3.10.12"
  }
 },
 "nbformat": 4,
 "nbformat_minor": 5
}
